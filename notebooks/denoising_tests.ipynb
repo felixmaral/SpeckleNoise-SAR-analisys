{
 "cells": [
  {
   "cell_type": "code",
   "execution_count": 1,
   "id": "f062f8df",
   "metadata": {},
   "outputs": [],
   "source": [
    "import re\n",
    "from pathlib import Path\n",
    "import numpy as np\n",
    "from PIL import Image\n",
    "import matplotlib.pyplot as plt\n",
    "\n",
    "from sar_speckle.filters import lee_filter, kuan_filter, frost_filter\n",
    "from sar_speckle.metrics import estimate_enl"
   ]
  },
  {
   "cell_type": "code",
   "execution_count": null,
   "id": "52e54742",
   "metadata": {},
   "outputs": [
    {
     "ename": "FileNotFoundError",
     "evalue": "[Errno 2] No such file or directory: 'outputs/example/sim_gray0.7_L4.png'",
     "output_type": "error",
     "traceback": [
      "\u001b[31m---------------------------------------------------------------------------\u001b[39m",
      "\u001b[31mFileNotFoundError\u001b[39m                         Traceback (most recent call last)",
      "\u001b[36mCell\u001b[39m\u001b[36m \u001b[39m\u001b[32mIn[3]\u001b[39m\u001b[32m, line 5\u001b[39m\n\u001b[32m      2\u001b[39m img_path = Path(\u001b[33m\"\u001b[39m\u001b[33moutputs/example/sim_gray0.7_L4.png\u001b[39m\u001b[33m\"\u001b[39m)\n\u001b[32m      4\u001b[39m \u001b[38;5;66;03m# Cargar en [0,1]\u001b[39;00m\n\u001b[32m----> \u001b[39m\u001b[32m5\u001b[39m I = np.asarray(\u001b[43mImage\u001b[49m\u001b[43m.\u001b[49m\u001b[43mopen\u001b[49m\u001b[43m(\u001b[49m\u001b[43mimg_path\u001b[49m\u001b[43m)\u001b[49m.convert(\u001b[33m\"\u001b[39m\u001b[33mL\u001b[39m\u001b[33m\"\u001b[39m), dtype=np.float32) / \u001b[32m255.0\u001b[39m\n\u001b[32m      6\u001b[39m H, W = I.shape\n\u001b[32m      7\u001b[39m \u001b[38;5;28mprint\u001b[39m(\u001b[33m\"\u001b[39m\u001b[33mLoaded:\u001b[39m\u001b[33m\"\u001b[39m, img_path, I.shape, I.min(), I.max())\n",
      "\u001b[36mFile \u001b[39m\u001b[32m~/Documents/Code/Projects/SpeckleNoise-SAR-analisys/venv/lib/python3.13/site-packages/PIL/Image.py:3513\u001b[39m, in \u001b[36mopen\u001b[39m\u001b[34m(fp, mode, formats)\u001b[39m\n\u001b[32m   3511\u001b[39m \u001b[38;5;28;01mif\u001b[39;00m is_path(fp):\n\u001b[32m   3512\u001b[39m     filename = os.fspath(fp)\n\u001b[32m-> \u001b[39m\u001b[32m3513\u001b[39m     fp = \u001b[43mbuiltins\u001b[49m\u001b[43m.\u001b[49m\u001b[43mopen\u001b[49m\u001b[43m(\u001b[49m\u001b[43mfilename\u001b[49m\u001b[43m,\u001b[49m\u001b[43m \u001b[49m\u001b[33;43m\"\u001b[39;49m\u001b[33;43mrb\u001b[39;49m\u001b[33;43m\"\u001b[39;49m\u001b[43m)\u001b[49m\n\u001b[32m   3514\u001b[39m     exclusive_fp = \u001b[38;5;28;01mTrue\u001b[39;00m\n\u001b[32m   3515\u001b[39m \u001b[38;5;28;01melse\u001b[39;00m:\n",
      "\u001b[31mFileNotFoundError\u001b[39m: [Errno 2] No such file or directory: 'outputs/example/sim_gray0.7_L4.png'"
     ]
    }
   ],
   "source": [
    "# Cambia este nombre si generaste otro\n",
    "img_path = Path(\"/Users/felixmaral/Documents/Code/Projects/SpeckleNoise-SAR-analisys/outputs/example/sim_gray0.7_L4.0.png\")\n",
    "\n",
    "# Cargar en [0,1]\n",
    "I = np.asarray(Image.open(img_path).convert(\"L\"), dtype=np.float32) / 255.0\n",
    "H, W = I.shape\n",
    "print(\"Loaded:\", img_path, I.shape, I.min(), I.max())\n",
    "\n",
    "# Intenta extraer L del nombre de archivo (sim_gray{x}_L{L}.png)\n",
    "m = re.search(r\"_L([0-9]+(?:\\\\.[0-9]+)?)\", img_path.name)\n",
    "L = float(m.group(1)) if m else 3.0\n",
    "print(\"Assumed ENL (L):\", L)"
   ]
  },
  {
   "cell_type": "code",
   "execution_count": null,
   "id": "e91e3ff1",
   "metadata": {},
   "outputs": [],
   "source": [
    "size = 7   # ventana (imágenes pequeñas: 5 o 7; grandes: 7-11)\n",
    "I_lee  = lee_filter(I,  size=size, enl=L)\n",
    "I_kuan = kuan_filter(I, size=size, enl=L)\n",
    "I_frost = frost_filter(I, size=5,  enl=L, damping=1.0)"
   ]
  },
  {
   "cell_type": "code",
   "execution_count": null,
   "id": "b99eb351",
   "metadata": {},
   "outputs": [],
   "source": [
    "def show(img, title):\n",
    "    plt.figure()\n",
    "    plt.title(title)\n",
    "    plt.imshow(np.clip(img, 0, 1), cmap=\"gray\")\n",
    "    plt.axis(\"off\")\n",
    "    plt.show()\n",
    "\n",
    "show(I,       f\"Input (ENL≈{L})\")\n",
    "show(I_lee,   f\"Lee (size={size}, L={L})\")\n",
    "show(I_kuan,  f\"Kuan (size={size}, L={L})\")\n",
    "show(I_frost, f\"Frost (size=5, L={L}, damping=1.0)\")"
   ]
  }
 ],
 "metadata": {
  "kernelspec": {
   "display_name": "venv",
   "language": "python",
   "name": "python3"
  },
  "language_info": {
   "codemirror_mode": {
    "name": "ipython",
    "version": 3
   },
   "file_extension": ".py",
   "mimetype": "text/x-python",
   "name": "python",
   "nbconvert_exporter": "python",
   "pygments_lexer": "ipython3",
   "version": "3.13.1"
  }
 },
 "nbformat": 4,
 "nbformat_minor": 5
}
